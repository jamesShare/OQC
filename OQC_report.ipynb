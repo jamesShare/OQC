{
 "cells": [
  {
   "cell_type": "markdown",
   "id": "653831ed",
   "metadata": {},
   "source": [
    "<h1> OQC Challenge </h1>"
   ]
  },
  {
   "cell_type": "markdown",
   "id": "c9b58b93",
   "metadata": {},
   "source": [
    "<h2>James Benstead, February 2022</h2>"
   ]
  },
  {
   "cell_type": "markdown",
   "id": "74d3316b",
   "metadata": {},
   "source": [
    "\n",
    "The work to meet this challenge will be presented in this single Jupyter notebook for simplicity. Any code will be written in PYTHON3.\n",
    "Unfortunately, I did not have the time to complete the challenge as I'd intended, but hopefully what I had planned will be clear and also correct."
   ]
  },
  {
   "cell_type": "markdown",
   "id": "21869bb3",
   "metadata": {},
   "source": [
    "<h2>Task 1</h2>"
   ]
  },
  {
   "cell_type": "markdown",
   "id": "01ba66c8",
   "metadata": {},
   "source": [
    "For this first task I created a short piece of python code that takes in a set of user supplied single qubit gates with arbitrary rotation angles and calculates what their sequential effect will be on an arbitrary input state $\\vert\\psi>$. \n",
    "$$|\\psi>=\\alpha|0>+\\beta|1>$$ where $\\alpha$ and $\\beta$ may be complex coefficients."
   ]
  },
  {
   "cell_type": "markdown",
   "id": "d2494044",
   "metadata": {},
   "source": [
    "The user inputs values for $\\alpha$ and $\\beta$ and these are normalised such that $\\alpha^2 + \\beta^2 = 1$.This normalisation is checked by the code."
   ]
  },
  {
   "cell_type": "code",
   "execution_count": 3,
   "id": "3b7142d3",
   "metadata": {},
   "outputs": [
    {
     "name": "stdout",
     "output_type": "stream",
     "text": [
      "Magnitude of state: [[1.]]\n",
      "Initial state is: \n",
      "[[0.89442719+0.j]\n",
      " [0.4472136 +0.j]]\n"
     ]
    }
   ],
   "source": [
    "import numpy as np\n",
    "import cmath as cm\n",
    "import math\n",
    "\n",
    "# declare pi and i\n",
    "pi = cm.pi\n",
    "imagj = complex(0,1)\n",
    "\n",
    "# define a random state vector\n",
    "# THIS WOULD BE INPUT, EITHER BY A USER OR SOME OTHER CODE\n",
    "# a and b are coefficients for |0> and |1> states respectively\n",
    "a = complex(1.,0)\n",
    "b = complex(0.5,0)\n",
    "stateI = np.matrix([[a],[b]])\n",
    "# coefficients are normalised here so that |state vector|=1\n",
    "absolute = cm.sqrt((a*a)+(b*b))\n",
    "stateI/=absolute\n",
    "absolute = abs(stateI)\n",
    "# Test of normalisation result is ouput as well as the normalised coefficients\n",
    "print('Magnitude of state: '+str(absolute[0]**2+absolute[1]**2))\n",
    "print(\"Initial state is: \")\n",
    "print(stateI)"
   ]
  },
  {
   "cell_type": "markdown",
   "id": "1296bbd9",
   "metadata": {},
   "source": [
    "The user next supplies a set of gate operations to be performed on this state."
   ]
  },
  {
   "cell_type": "code",
   "execution_count": 4,
   "id": "ed2fa057",
   "metadata": {},
   "outputs": [],
   "source": [
    "# create an input list of gate operations\n",
    "# THIS WOULD BE INPUT, EITHER BY A USER OR SOME OTHER CODE\n",
    "input_gates = [['X',90],['X',90],['Z',90],['Y',30], ['Z',120],['Y',20]]"
   ]
  },
  {
   "cell_type": "markdown",
   "id": "e66398f4",
   "metadata": {},
   "source": [
    "Then each of these gates is run sequentially. Here 'X' really means R_x (arbitrary X rotation) and so on with Y and Z. Rather than use an existing function for each of these gates I created my own functions for these operations. Unfortunately I got a little carried away with this, which ate into my challenge time... The functions are directly below, followed by the loop over the gates."
   ]
  },
  {
   "cell_type": "code",
   "execution_count": 5,
   "id": "bb625dd5",
   "metadata": {},
   "outputs": [],
   "source": [
    "# create my own functions to perform abitrary X, Y and Z rotations\n",
    "def xgate(state1,angle):\n",
    "    imagj = complex(0,1)\n",
    "    xmat = np.array([[cm.cos(angle/2.),-1.*imagj*cm.sin(angle/2.)],[-1.*imagj*cm.sin(angle/2.),cm.cos(angle/2.)]])\n",
    "    xmat*=imagj\n",
    "    state2 = np.matmul(xmat,state1)\n",
    "    return state2\n",
    "  \n",
    "def ygate(state1,angle):\n",
    "    imagj = complex(0,1)\n",
    "    ymat = np.array([[cm.cos(angle/2.),-1*cm.sin(angle/2.)],[cm.sin(angle/2.),cm.cos(angle/2.)]])\n",
    "    ymat*=imagj\n",
    "    state2 = np.matmul(ymat,state1)\n",
    "    return state2\n",
    "\n",
    "def zgate(state1,angle):\n",
    "    imagj = complex(0,1)\n",
    "    zmat = np.array([[-1.*cm.exp(imagj*angle*.5),0.],[0.,cm.exp(imagj*angle*.5)]])\n",
    "    zmat*=imagj\n",
    "    state2 = np.matmul(zmat,state1)\n",
    "    return state2\n",
    "# Simple degrees to radians converter  \n",
    "def degToRads(degrees):\n",
    "    radians = degrees *  math.pi / 180.\n",
    "    return radians"
   ]
  },
  {
   "cell_type": "code",
   "execution_count": 6,
   "id": "ae505855",
   "metadata": {},
   "outputs": [
    {
     "name": "stdout",
     "output_type": "stream",
     "text": [
      "Input gate 1\n",
      "['X', 90]\n",
      "Input gate 2\n",
      "['X', 90]\n",
      "Input gate 3\n",
      "['Z', 90]\n",
      "Input gate 4\n",
      "['Y', 30]\n",
      "Input gate 5\n",
      "['Z', 120]\n",
      "Input gate 6\n",
      "['Y', 20]\n",
      "Final state is:  [[-0.5056296 -0.13548304j]\n",
      " [-0.82301362-0.22052583j]]\n",
      "Magnitude of state: [[1.]]\n"
     ]
    }
   ],
   "source": [
    "# Now going through each gate and rotating our initial state\n",
    "inputGateNumber = 1\n",
    "stateTemp = stateI\n",
    "for gate in input_gates:\n",
    "    print(\"Input gate \"+str(inputGateNumber))\n",
    "    inputGateNumber+=1\n",
    "    print(gate)\n",
    "    if gate[0] == 'X':\n",
    "        stateTemp = xgate(stateTemp,degToRads(gate[1]))\n",
    "    if gate[0] == 'Y':\n",
    "        stateTemp = ygate(stateTemp,degToRads(gate[1]))\n",
    "    if gate[0] == 'Z':\n",
    "        stateTemp = zgate(stateTemp,degToRads(gate[1]))\n",
    "stateF = stateTemp\n",
    "\n",
    "# Outputting final state after rotations\n",
    "print(\"Final state is: \", stateF)\n",
    "# Check it is still normalised\n",
    "absolute = abs(stateF)#stateF[0]**2+stateF[1]**2\n",
    "print('Magnitude of state: '+str(absolute[0]**2+absolute[1]**2))"
   ]
  },
  {
   "cell_type": "markdown",
   "id": "aad936b7",
   "metadata": {},
   "source": [
    "This code was tested against known rotation results and seemed to perform correctly. \n",
    "Now, knowing what effect these rotations will have on an abitrary state, the task is to minimise these operations. Using some algebra I was able to calculate and then implement in my code, a way to find a single rotation matrix $M$ that replaces this sequence of gates."
   ]
  },
  {
   "cell_type": "markdown",
   "id": "3e0e959c",
   "metadata": {},
   "source": [
    "$$M|\\psi_{i}>=|\\psi_{f}>$$\n",
    "$$M=|\\psi_{f}><\\psi_{i}|$$\n",
    "$M$ is created by the outer product of the initial and final states. This procedure works if $M$ and the gates it is replacing are unitary (which is also a test of my earlier X, Y and Z functions).\n"
   ]
  },
  {
   "cell_type": "code",
   "execution_count": 7,
   "id": "81f05c47",
   "metadata": {},
   "outputs": [
    {
     "name": "stdout",
     "output_type": "stream",
     "text": [
      "New matrix is:\n",
      "[[-0.45224886-0.12117972j -0.22612443-0.06058986j]\n",
      " [-0.73612576-0.1972443j  -0.36806288-0.09862215j]]\n",
      " \n",
      "Final state calculated using this new single matrix:  [[-0.5056296 -0.13548304j]\n",
      " [-0.82301362-0.22052583j]]\n"
     ]
    }
   ],
   "source": [
    "# NOW WORKING TO MINIMISE GATE ROTATIONS\n",
    "# Have starting state and end state, so can create a single matrix to make the rotation between them\n",
    "print('New matrix is:')\n",
    "new_mat = np.outer(stateF,stateI)\n",
    "print(new_mat)\n",
    "print(' ')\n",
    "# Test that this new matrix works in place of the previous set of sequential gates\n",
    "stateF2 = np.matmul(new_mat,stateI)\n",
    "print(\"Final state calculated using this new single matrix: \", stateF2)"
   ]
  },
  {
   "cell_type": "markdown",
   "id": "8bc696da",
   "metadata": {},
   "source": [
    "It can be seen that this new single matrix performs the same rotation as that of the initial sequence of gates, but in a single rotation. Unfortunately, no such gate exists to perform this arbitrary single rotation, so this matrix must be decomposed into a sequence of $R_x$, $R_y$ and $R_z$ gates. \n",
    "The simplest construct will be a combination of two gates e.g. $R_y$ and $R_z$. Unfortunately I was not able to perform this decomposition..."
   ]
  },
  {
   "cell_type": "markdown",
   "id": "ee7cc834",
   "metadata": {},
   "source": [
    "<h2>Task 2"
   ]
  },
  {
   "cell_type": "markdown",
   "id": "544fdac1",
   "metadata": {},
   "source": [
    "Unfortunately, given I did not complete the coding of Task 1 I was unable to do more than simply think about Task 2. With the absence of rotations about the Y axis, analagous rotations would need to be performed using e.g. the sequence $R_y(\\theta)=R_z(90)R_x(\\theta)R_z(-90)$. Unfortunately this would increase circuit depth and hence decoherence effects."
   ]
  },
  {
   "cell_type": "markdown",
   "id": "d2bdb6b7",
   "metadata": {},
   "source": [
    "<h2>Task 3"
   ]
  },
  {
   "cell_type": "markdown",
   "id": "ef2c6b71",
   "metadata": {},
   "source": [
    "Again, as with Task 2, this one was not attempted, but after thinking about it a few comments are;\n",
    "- assuming a z rotation takes 10x that of an x rotation, whereever a z rotation appears it could be replaced by an equivalent set of rotations using different gates available.\n",
    "- if y is available then a combination of x and y, otherwise single z gates can be replaced by HXH, assuming a Hadamard gate is available and also takes <=4x the length of an x gate to run.\n",
    "- I would also add a safety margin between co-timed parallel operations to account for electronics \"jitter\". This jitter could be measured on the hardware used and input by the user before a calculation."
   ]
  },
  {
   "cell_type": "markdown",
   "id": "482ced84",
   "metadata": {},
   "source": [
    "<h2>Task 4"
   ]
  },
  {
   "cell_type": "markdown",
   "id": "aae9572b",
   "metadata": {},
   "source": [
    "Unfortunately I did not attempt Task 4."
   ]
  },
  {
   "cell_type": "code",
   "execution_count": null,
   "id": "51d96b2b",
   "metadata": {},
   "outputs": [],
   "source": []
  }
 ],
 "metadata": {
  "kernelspec": {
   "display_name": "Python 3",
   "language": "python",
   "name": "python3"
  },
  "language_info": {
   "codemirror_mode": {
    "name": "ipython",
    "version": 3
   },
   "file_extension": ".py",
   "mimetype": "text/x-python",
   "name": "python",
   "nbconvert_exporter": "python",
   "pygments_lexer": "ipython3",
   "version": "3.6.8"
  }
 },
 "nbformat": 4,
 "nbformat_minor": 5
}
